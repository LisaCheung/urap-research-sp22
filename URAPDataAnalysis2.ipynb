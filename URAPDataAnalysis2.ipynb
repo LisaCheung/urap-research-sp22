{
 "cells": [
  {
   "cell_type": "code",
   "execution_count": null,
   "id": "41224443",
   "metadata": {},
   "outputs": [],
   "source": [
    "import numpy as np\n",
    "from datascience import *\n",
    "import pandas as pd\n",
    "\n",
    "# These lines do some fancy plotting magic.\\n\",\n",
    "import matplotlib\n",
    "%matplotlib inline\n",
    "import matplotlib.pyplot as plots\n",
    "plots.style.use('fivethirtyeight')"
   ]
  },
  {
   "cell_type": "markdown",
   "id": "31a28e86",
   "metadata": {},
   "source": [
    "### Create Pandas Dataframe for Q1 and Q2 Datasets"
   ]
  },
  {
   "cell_type": "code",
   "execution_count": null,
   "id": "82fdcadc",
   "metadata": {},
   "outputs": [],
   "source": [
    "#convert q1 csv to pandas dataframe\n",
    "dfQ1 = pd.read_csv(\"URAP Research Q. 1 - Testing Data 11.20 to 11.21.csv\")"
   ]
  },
  {
   "cell_type": "code",
   "execution_count": null,
   "id": "1fac82e4",
   "metadata": {},
   "outputs": [],
   "source": [
    "#display first ten rows of dfQ1 table\n",
    "dfQ1.head(10)"
   ]
  },
  {
   "cell_type": "code",
   "execution_count": null,
   "id": "3ce75a25",
   "metadata": {},
   "outputs": [],
   "source": [
    "#convert q2 csv to pandas dataframe\n",
    "dfQ2 = pd.read_csv(\"URAP-Research-Q.-2.csv\")"
   ]
  },
  {
   "cell_type": "code",
   "execution_count": null,
   "id": "22c54afa",
   "metadata": {},
   "outputs": [],
   "source": [
    "#display first ten rows of dfQ2 table\n",
    "dfQ2.head(10)"
   ]
  },
  {
   "cell_type": "markdown",
   "id": "b99e6f03",
   "metadata": {},
   "source": [
    "# Q1 Dataset Analysis"
   ]
  },
  {
   "cell_type": "code",
   "execution_count": null,
   "id": "0e05d966",
   "metadata": {},
   "outputs": [],
   "source": [
    "#display first ten rows of dfQ1 table\n",
    "dfQ1.head(10)"
   ]
  },
  {
   "cell_type": "markdown",
   "id": "0f582fa3",
   "metadata": {},
   "source": [
    "### Create a table collection date vs number of test results  for each type (by day)"
   ]
  },
  {
   "cell_type": "code",
   "execution_count": null,
   "id": "042177e1",
   "metadata": {},
   "outputs": [],
   "source": [
    "temp0 = pd.DataFrame(dfQ1.groupby([\"CollectionDate\", \"TestResult\"]).count())\n",
    "temp0 = temp0.rename(columns={\"ID\":\"Test Result Count\"})\n",
    "date_result_tbl = temp0[[\"Test Result Count\"]]\n",
    "date_result_tbl=pd.DataFrame(date_result_tbl)"
   ]
  },
  {
   "cell_type": "code",
   "execution_count": null,
   "id": "c4e37c40",
   "metadata": {},
   "outputs": [],
   "source": [
    "#display first ten rows of table\n",
    "date_result_tbl.head(10)"
   ]
  },
  {
   "cell_type": "markdown",
   "id": "9a585749",
   "metadata": {},
   "source": [
    "### Create a table collection date vs number of test results  for each type (by month)"
   ]
  },
  {
   "cell_type": "code",
   "execution_count": null,
   "id": "a2e785d4",
   "metadata": {
    "scrolled": true
   },
   "outputs": [],
   "source": [
    "date_result_tbl.reset_index(level=['CollectionDate', 'TestResult'])"
   ]
  },
  {
   "cell_type": "code",
   "execution_count": null,
   "id": "e4c3d387",
   "metadata": {},
   "outputs": [],
   "source": [
    "date_result_tbl = date_result_tbl.reset_index(level=['CollectionDate', 'TestResult'])\n",
    "date_result_tbl.head()"
   ]
  },
  {
   "cell_type": "code",
   "execution_count": null,
   "id": "8fbeeaf4",
   "metadata": {},
   "outputs": [],
   "source": [
    "#split the collection date timestamp into an array of month, day, and year\n",
    "date_result_tbl['CollectionDate'] = date_result_tbl['CollectionDate'].apply(lambda x: x.split('/'))"
   ]
  },
  {
   "cell_type": "code",
   "execution_count": null,
   "id": "efdf6c86",
   "metadata": {},
   "outputs": [],
   "source": [
    "date_result_tbl.head()"
   ]
  },
  {
   "cell_type": "code",
   "execution_count": null,
   "id": "66a94605",
   "metadata": {
    "scrolled": true
   },
   "outputs": [],
   "source": [
    "#extract the month and year only from the array\n",
    "date_result_tbl['CollectionDate'] = date_result_tbl['CollectionDate'].apply(lambda x: [x[0], x[2]])\n",
    "date_result_tbl.head()"
   ]
  },
  {
   "cell_type": "markdown",
   "id": "6ebee731",
   "metadata": {},
   "source": [
    "####  <font color='orange'>Negative Test Results Data (Both High Risk and Low Risk Groups)</font>"
   ]
  },
  {
   "cell_type": "code",
   "execution_count": null,
   "id": "33137581",
   "metadata": {},
   "outputs": [],
   "source": [
    "#select data where TestResult == \"Negative\" \n",
    "neg_tbl = date_result_tbl.loc[date_result_tbl['TestResult'] == \"Negative\"]\n",
    "neg_tbl = pd.DataFrame(neg_tbl)\n",
    "neg_tbl = neg_tbl.rename(columns={\"Test Result Count\":\"Negative Test Result Count\"})\n",
    "neg_tbl = neg_tbl[[\"CollectionDate\", \"Negative Test Result Count\"]]\n",
    "neg_tbl['CollectionDate'] = neg_tbl['CollectionDate'].apply(lambda x:str(x[0]) + \"/\" + str(x[1]))\n",
    "neg_tbl.head()"
   ]
  },
  {
   "cell_type": "code",
   "execution_count": null,
   "id": "3e4919d6",
   "metadata": {},
   "outputs": [],
   "source": [
    "neg_tbl_avg = neg_tbl.groupby(['CollectionDate']).mean()\n",
    "neg_tbl_avg = pd.DataFrame(neg_tbl_avg)\n",
    "neg_tbl_avg = neg_tbl_avg.rename(columns={\"Negative Test Result Count\":\"Negative Test Result Average Per Month\"})\n",
    "neg_tbl_avg = neg_tbl_avg.style.set_caption('Average Count of Negative Test Results By Collection Date Month Among UC Berkeley Graduates and Undergraduates **Includes both high risk and non-high risk groups')\n",
    "neg_tbl_avg "
   ]
  },
  {
   "cell_type": "code",
   "execution_count": null,
   "id": "f4109fe6",
   "metadata": {},
   "outputs": [],
   "source": [
    "#sort neg_tbl_avg "
   ]
  },
  {
   "cell_type": "code",
   "execution_count": null,
   "id": "b7a75a39",
   "metadata": {},
   "outputs": [],
   "source": [
    "#plot graph from neg_tbl_avg "
   ]
  },
  {
   "cell_type": "markdown",
   "id": "052b6785",
   "metadata": {},
   "source": [
    "####  <font color='orange'>Positive Test Results Data (Both High Risk and Low Risk Groups)</font>"
   ]
  },
  {
   "cell_type": "code",
   "execution_count": null,
   "id": "76630ff5",
   "metadata": {},
   "outputs": [],
   "source": [
    "#select data where TestResult == \"Positive\" \n",
    "pos_tbl = date_result_tbl.loc[date_result_tbl['TestResult'] == \"Positive\"]\n",
    "pos_tbl = pd.DataFrame(pos_tbl)\n",
    "pos_tbl = pos_tbl.rename(columns={\"Test Result Count\":\"Positive Test Result Count\"})\n",
    "pos_tbl = pos_tbl[[\"CollectionDate\", \"Positive Test Result Count\"]]\n",
    "pos_tbl['CollectionDate'] = pos_tbl['CollectionDate'].apply(lambda x:str(x[0]) + \"/\" + str(x[1]))\n",
    "pos_tbl.head()"
   ]
  },
  {
   "cell_type": "code",
   "execution_count": null,
   "id": "d05987a1",
   "metadata": {},
   "outputs": [],
   "source": [
    "pos_tbl_avg = pos_tbl.groupby(['CollectionDate']).mean()\n",
    "pos_tbl_avg = pd.DataFrame(pos_tbl_avg)\n",
    "pos_tbl_avg = pos_tbl_avg.rename(columns={\"Positive Test Result Count\":\"Positive Test Result Average Per Month\"})\n",
    "pos_tbl_avg = pos_tbl_avg.style.set_caption('Average Count of Positive Test Results By Collection Date Month Among UC Berkeley Graduates and Undergraduates **Includes both high risk and non-high risk groups')\n",
    "pos_tbl_avg "
   ]
  },
  {
   "cell_type": "code",
   "execution_count": null,
   "id": "e9d0cfba",
   "metadata": {},
   "outputs": [],
   "source": [
    "#sort pos_tbl_avg \n",
    "#sort table\n",
    "pos_tbl_avg_high   = pd.DataFrame(pos_tbl_avg_high).reset_index(level=['CollectionDate'])\n",
    "pos_tbl_avg_high['month only'] = pos_tbl_avg_high['CollectionDate'].apply(lambda x: int(x.split('/')[0]))\n",
    "pos_tbl_avg_high['year only'] = pos_tbl_avg_high['CollectionDate'].apply(lambda x: int(x.split('/')[1]))\n",
    "pos_tbl_avg_high = pos_tbl_avg_high.sort_values(['year only', 'month only'],\n",
    "              ascending = [True, True])\n",
    "pos_tbl_avg_high = pd.DataFrame(pos_tbl_avg_high[[\"CollectionDate\", \"Positive Test Result Average Per Month\"]])\n",
    "pos_tbl_avg_high = pos_tbl_avg_high.style.set_caption('Average Count of Positive Test Results By Collection Date Month Among UC Berkeley Graduates and Undergraduates **Only High risk groups')"
   ]
  },
  {
   "cell_type": "code",
   "execution_count": null,
   "id": "198a50be",
   "metadata": {},
   "outputs": [],
   "source": [
    "#plot graph from pos_tbl_avg "
   ]
  },
  {
   "cell_type": "markdown",
   "id": "12a9123f",
   "metadata": {},
   "source": [
    "## High vs. Low Risk Groups"
   ]
  },
  {
   "cell_type": "markdown",
   "id": "6510a7bd",
   "metadata": {},
   "source": [
    "####  <font color='red'>Negative Test Results Data (High Risk Groups Only)</font>"
   ]
  },
  {
   "cell_type": "code",
   "execution_count": null,
   "id": "00deefaf",
   "metadata": {
    "scrolled": true
   },
   "outputs": [],
   "source": [
    "dfQ1_high = dfQ1.loc[dfQ1['High Risk'] == \"Yes\"]\n",
    "dfQ1_high.head()"
   ]
  },
  {
   "cell_type": "code",
   "execution_count": null,
   "id": "91720e4b",
   "metadata": {
    "scrolled": true
   },
   "outputs": [],
   "source": [
    "temp1 = pd.DataFrame(dfQ1_high.groupby([\"CollectionDate\", \"TestResult\"]).count())\n",
    "temp1= temp1.rename(columns={\"ID\":\"Test Result Count\"})\n",
    "date_result_tbl0 = temp1[[\"Test Result Count\"]]\n",
    "date_result_tbl0=pd.DataFrame(date_result_tbl0)\n",
    "date_result_tbl0.reset_index(level=['CollectionDate', 'TestResult'])\n",
    "date_result_tbl0 = date_result_tbl0.reset_index(level=['CollectionDate', 'TestResult'])\n",
    "#split the collection date timestamp into an array of month, day, and year\n",
    "date_result_tbl0['CollectionDate'] = date_result_tbl0['CollectionDate'].apply(lambda x: x.split('/'))\n",
    "#extract the month and year only from the array\n",
    "date_result_tbl0['CollectionDate'] = date_result_tbl0['CollectionDate'].apply(lambda x: [x[0], x[2]])\n",
    "#select data where TestResult == \"Negative\" \n",
    "neg_tbl0 = date_result_tbl0.loc[date_result_tbl['TestResult'] == \"Negative\"]\n",
    "neg_tbl0 = pd.DataFrame(neg_tbl0)\n",
    "neg_tbl0 = neg_tbl0.rename(columns={\"Test Result Count\":\"Negative Test Result Count\"})\n",
    "neg_tbl0 = neg_tbl0[[\"CollectionDate\", \"Negative Test Result Count\"]]\n",
    "neg_tbl0['CollectionDate'] = neg_tbl0['CollectionDate'].apply(lambda x:str(x[0]) + \"/\" + str(x[1]))"
   ]
  },
  {
   "cell_type": "code",
   "execution_count": null,
   "id": "d0b61ce1",
   "metadata": {
    "scrolled": true
   },
   "outputs": [],
   "source": [
    "neg_tbl_avg_high = neg_tbl0.groupby(['CollectionDate']).mean()\n",
    "neg_tbl_avg_high  = pd.DataFrame(neg_tbl_avg_high )\n",
    "neg_tbl_avg_high  = neg_tbl_avg_high .rename(columns={\"Negative Test Result Count\":\"Negative Test Result Average Per Month\"})\n",
    "#neg_tbl_avg_high  = neg_tbl_avg_high .style.set_caption('Average Count of Negative Test Results By Collection Date Month Among UC Berkeley Graduates and Undergraduates **Only high risk groups')\n",
    "neg_tbl_avg_high  "
   ]
  },
  {
   "cell_type": "code",
   "execution_count": null,
   "id": "d9e3e7c7",
   "metadata": {},
   "outputs": [],
   "source": [
    "#sort table\n",
    "neg_tbl_avg_high  = pd.DataFrame(neg_tbl_avg_high).reset_index(level=['CollectionDate'])\n",
    "neg_tbl_avg_high['month only'] = neg_tbl_avg_high['CollectionDate'].apply(lambda x: int(x.split('/')[0]))\n",
    "neg_tbl_avg_high['year only'] = neg_tbl_avg_high['CollectionDate'].apply(lambda x: int(x.split('/')[1]))\n",
    "neg_tbl_avg_high = neg_tbl_avg_high.sort_values(['year only', 'month only'],\n",
    "              ascending = [True, True])\n",
    "neg_tbl_avg_high = pd.DataFrame(neg_tbl_avg_high[[\"CollectionDate\", \"Negative Test Result Average Per Month\"]])\n",
    "neg_tbl_avg_high2 = neg_tbl_avg_high.style.set_caption('Average Count of Negative Test Results By Collection Date Month Among UC Berkeley Graduates and Undergraduates **Only High risk groups')"
   ]
  },
  {
   "cell_type": "markdown",
   "id": "a721eafe",
   "metadata": {},
   "source": [
    "# <font color='purple'>Result:</font>"
   ]
  },
  {
   "cell_type": "code",
   "execution_count": null,
   "id": "82e574f5",
   "metadata": {},
   "outputs": [],
   "source": [
    "neg_tbl_avg_high2"
   ]
  },
  {
   "cell_type": "code",
   "execution_count": null,
   "id": "d0f3a5f0",
   "metadata": {},
   "outputs": [],
   "source": [
    "import matplotlib.pyplot as plt\n",
    "date_arr = neg_tbl_avg_high[\"CollectionDate\"].to_numpy()\n",
    "neg_avg_arr = neg_tbl_avg_high[\"Negative Test Result Average Per Month\"].to_numpy() \n",
    "plt.plot(date_arr, neg_avg_arr)\n",
    "plt.rcParams[\"figure.figsize\"] = (30,30)\n",
    "plt.title('Average Count of Negative Test Results By Collection Date Month Among UC Berkeley Graduates and Undergraduates **Only High risk groups')\n",
    "plt.xlabel('Collection Date')\n",
    "plt.ylabel('Average Number of Negative Cases')\n",
    "plt.show()"
   ]
  },
  {
   "cell_type": "markdown",
   "id": "670d85eb",
   "metadata": {},
   "source": [
    "####  <font color='brown'>Negative Test Results Data (Non-High Risk Groups Only)</font>"
   ]
  },
  {
   "cell_type": "code",
   "execution_count": null,
   "id": "c40e6eb1",
   "metadata": {
    "scrolled": true
   },
   "outputs": [],
   "source": [
    "dfQ1_nonhigh = dfQ1.loc[dfQ1['High Risk'] == \"No\"]\n",
    "temp2 = pd.DataFrame(dfQ1_nonhigh.groupby([\"CollectionDate\", \"TestResult\"]).count())\n",
    "temp2= temp2.rename(columns={\"ID\":\"Test Result Count\"})\n",
    "date_result_tbl2 = temp1[[\"Test Result Count\"]]\n",
    "date_result_tbl2=pd.DataFrame(date_result_tbl2)\n",
    "date_result_tbl2.reset_index(level=['CollectionDate', 'TestResult'])\n",
    "date_result_tbl2 = date_result_tbl2.reset_index(level=['CollectionDate', 'TestResult'])\n",
    "#split the collection date timestamp into an array of month, day, and year\n",
    "date_result_tbl2['CollectionDate'] = date_result_tbl2['CollectionDate'].apply(lambda x: x.split('/'))\n",
    "#extract the month and year only from the array\n",
    "date_result_tbl2['CollectionDate'] = date_result_tbl2['CollectionDate'].apply(lambda x: [x[0], x[2]])\n",
    "#select data where TestResult == \"Negative\" \n",
    "neg_tbl2 = date_result_tbl2.loc[date_result_tbl2['TestResult'] == \"Negative\"]\n",
    "neg_tbl2 = pd.DataFrame(neg_tbl2)\n",
    "neg_tbl2 = neg_tbl2.rename(columns={\"Test Result Count\":\"Negative Test Result Count\"})\n",
    "neg_tbl2 = neg_tbl2[[\"CollectionDate\", \"Negative Test Result Count\"]]\n",
    "neg_tbl2['CollectionDate'] = neg_tbl2['CollectionDate'].apply(lambda x:str(x[0]) + \"/\" + str(x[1]))\n",
    "neg_tbl_avg_nonhigh = neg_tbl2.groupby(['CollectionDate']).mean()\n",
    "neg_tbl_avg_nonhigh  = pd.DataFrame(neg_tbl_avg_nonhigh )\n",
    "neg_tbl_avg_nonhigh  = neg_tbl_avg_nonhigh.rename(columns={\"Negative Test Result Count\":\"Negative Test Result Average Per Month\"})\n",
    "#neg_tbl_avg_nonhigh  = neg_tbl_avg_nonhigh.style.set_caption('Average Count of Negative Test Results By Collection Date Month Among UC Berkeley Graduates and Undergraduates **Only non-high risk groups')\n",
    "neg_tbl_avg_nonhigh "
   ]
  },
  {
   "cell_type": "code",
   "execution_count": null,
   "id": "e09f1371",
   "metadata": {
    "scrolled": true
   },
   "outputs": [],
   "source": [
    " #sort table\n",
    "neg_tbl_avg_nonhigh = pd.DataFrame(neg_tbl_avg_nonhigh).reset_index(level=['CollectionDate'])\n",
    "neg_tbl_avg_nonhigh"
   ]
  },
  {
   "cell_type": "code",
   "execution_count": null,
   "id": "6acc62f7",
   "metadata": {},
   "outputs": [],
   "source": [
    "neg_tbl_avg_nonhigh['month only'] = neg_tbl_avg_nonhigh['CollectionDate'].apply(lambda x: int(x.split('/')[0]))"
   ]
  },
  {
   "cell_type": "code",
   "execution_count": null,
   "id": "9c713418",
   "metadata": {},
   "outputs": [],
   "source": [
    "neg_tbl_avg_nonhigh['year only'] = neg_tbl_avg_nonhigh['CollectionDate'].apply(lambda x: int(x.split('/')[1]))"
   ]
  },
  {
   "cell_type": "code",
   "execution_count": null,
   "id": "3cbe788e",
   "metadata": {},
   "outputs": [],
   "source": [
    "neg_tbl_avg_nonhigh = neg_tbl_avg_nonhigh.sort_values(['year only', 'month only'],\n",
    "              ascending = [True, True])"
   ]
  },
  {
   "cell_type": "code",
   "execution_count": null,
   "id": "0070ac41",
   "metadata": {},
   "outputs": [],
   "source": [
    "neg_tbl_avg_nonhigh = pd.DataFrame(neg_tbl_avg_nonhigh[[\"CollectionDate\", \"Negative Test Result Average Per Month\"]])"
   ]
  },
  {
   "cell_type": "code",
   "execution_count": null,
   "id": "596cd770",
   "metadata": {},
   "outputs": [],
   "source": [
    "neg_tbl_avg_nonhigh2  = neg_tbl_avg_nonhigh.style.set_caption('Average Count of Negative Test Results By Collection Date Month Among UC Berkeley Graduates and Undergraduates **Only non-high risk groups')"
   ]
  },
  {
   "cell_type": "markdown",
   "id": "71d2983c",
   "metadata": {},
   "source": [
    "# <font color='purple'>Result:</font>"
   ]
  },
  {
   "cell_type": "code",
   "execution_count": null,
   "id": "c75ab246",
   "metadata": {
    "scrolled": true
   },
   "outputs": [],
   "source": [
    "neg_tbl_avg_nonhigh2 "
   ]
  },
  {
   "cell_type": "code",
   "execution_count": null,
   "id": "7d356b4c",
   "metadata": {},
   "outputs": [],
   "source": [
    "import matplotlib.pyplot as plt\n",
    "date_arr = neg_tbl_avg_nonhigh [\"CollectionDate\"].to_numpy()\n",
    "neg_avg_arr = neg_tbl_avg_nonhigh[\"Negative Test Result Average Per Month\"].to_numpy() \n",
    "plt.plot(date_arr, neg_avg_arr)\n",
    "plt.rcParams[\"figure.figsize\"] = (5,5)\n",
    "plt.title('Average Count of Negative Test Results By Collection Date Month Among UC Berkeley Graduates and Undergraduates **Only non-high risk groups')\n",
    "plt.xlabel('Collection Date')\n",
    "plt.ylabel('Average Number of Negative Cases')\n",
    "plt.show()"
   ]
  },
  {
   "cell_type": "markdown",
   "id": "de8de07f",
   "metadata": {},
   "source": [
    "####  <font color='red'>Positive Test Results Data (High Risk Groups Only)</font>"
   ]
  },
  {
   "cell_type": "code",
   "execution_count": null,
   "id": "c2b1eeb1",
   "metadata": {},
   "outputs": [],
   "source": [
    "dfQ1_high = dfQ1.loc[dfQ1['High Risk'] == \"Yes\"]\n",
    "temp3 = pd.DataFrame(dfQ1_high.groupby([\"CollectionDate\", \"TestResult\"]).count())\n",
    "temp3= temp3.rename(columns={\"ID\":\"Test Result Count\"})\n",
    "date_result_tbl3 = temp1[[\"Test Result Count\"]]\n",
    "date_result_tbl3=pd.DataFrame(date_result_tbl3)\n",
    "date_result_tbl3.reset_index(level=['CollectionDate', 'TestResult'])\n",
    "date_result_tbl3 = date_result_tbl3.reset_index(level=['CollectionDate', 'TestResult'])\n",
    "#split the collection date timestamp into an array of month, day, and year\n",
    "date_result_tbl3['CollectionDate'] = date_result_tbl3['CollectionDate'].apply(lambda x: x.split('/'))\n",
    "#extract the month and year only from the array\n",
    "date_result_tbl3['CollectionDate'] = date_result_tbl3['CollectionDate'].apply(lambda x: [x[0], x[2]])\n",
    "#select data where TestResult == \"Positive\" \n",
    "pos_tbl0 = date_result_tbl3.loc[date_result_tbl['TestResult'] == \"Positive\"]\n",
    "pos_tbl0 = pd.DataFrame(pos_tbl0)\n",
    "pos_tbl0 = pos_tbl0.rename(columns={\"Test Result Count\":\"Positive Test Result Count\"})\n",
    "pos_tbl0 = pos_tbl0[[\"CollectionDate\", \"Positive Test Result Count\"]]\n",
    "pos_tbl0['CollectionDate'] = pos_tbl0['CollectionDate'].apply(lambda x:str(x[0]) + \"/\" + str(x[1]))\n",
    "pos_tbl_avg_high = pos_tbl0.groupby(['CollectionDate']).mean()\n",
    "pos_tbl_avg_high  = pd.DataFrame(pos_tbl_avg_high )\n",
    "pos_tbl_avg_high  = pos_tbl_avg_high .rename(columns={\"Positive Test Result Count\":\"Positive Test Result Average Per Month\"})\n",
    "#pos_tbl_avg_high  = pos_tbl_avg_high.style.set_caption('Average Count of Positive Test Results By Collection Date Month Among UC Berkeley Graduates and Undergraduates **Only High risk groups')\n",
    "pos_tbl_avg_high  "
   ]
  },
  {
   "cell_type": "code",
   "execution_count": null,
   "id": "dd90f053",
   "metadata": {},
   "outputs": [],
   "source": [
    "#sort table\n",
    "pos_tbl_avg_high   = pd.DataFrame(pos_tbl_avg_high).reset_index(level=['CollectionDate'])\n",
    "pos_tbl_avg_high['month only'] = pos_tbl_avg_high['CollectionDate'].apply(lambda x: int(x.split('/')[0]))\n",
    "pos_tbl_avg_high['year only'] = pos_tbl_avg_high['CollectionDate'].apply(lambda x: int(x.split('/')[1]))\n",
    "pos_tbl_avg_high = pos_tbl_avg_high.sort_values(['year only', 'month only'],\n",
    "              ascending = [True, True])\n",
    "pos_tbl_avg_high = pd.DataFrame(pos_tbl_avg_high[[\"CollectionDate\", \"Positive Test Result Average Per Month\"]])\n",
    "pos_tbl_avg_high2 = pos_tbl_avg_high.style.set_caption('Average Count of Positive Test Results By Collection Date Month Among UC Berkeley Graduates and Undergraduates **Only High risk groups')"
   ]
  },
  {
   "cell_type": "markdown",
   "id": "00d69e5d",
   "metadata": {},
   "source": [
    "#  <font color='purple'>Result:</font>"
   ]
  },
  {
   "cell_type": "code",
   "execution_count": null,
   "id": "21fae9d9",
   "metadata": {},
   "outputs": [],
   "source": [
    "pos_tbl_avg_high2"
   ]
  },
  {
   "cell_type": "code",
   "execution_count": null,
   "id": "7d13e2b9",
   "metadata": {},
   "outputs": [],
   "source": [
    "import matplotlib.pyplot as plt\n",
    "date_arr = pos_tbl_avg_high[\"CollectionDate\"].to_numpy()\n",
    "pos_avg_arr = pos_tbl_avg_high[\"Positive Test Result Average Per Month\"].to_numpy() \n",
    "plt.plot(date_arr, pos_avg_arr)\n",
    "plt.rcParams[\"figure.figsize\"] = (20,20)\n",
    "plt.title('Average Count of Positive Test Results By Collection Date Month Among UC Berkeley Graduates and Undergraduates **Only high risk groups')\n",
    "plt.xlabel('Collection Date')\n",
    "plt.ylabel('Average Number of Positive Cases')\n",
    "plt.show()"
   ]
  },
  {
   "cell_type": "markdown",
   "id": "1b125649",
   "metadata": {},
   "source": [
    "####  <font color='brown'>Positive Test Results Data (Non-High Risk Groups Only)</font>"
   ]
  },
  {
   "cell_type": "code",
   "execution_count": null,
   "id": "2d76c59b",
   "metadata": {
    "scrolled": true
   },
   "outputs": [],
   "source": [
    "dfQ1_nonhigh = dfQ1.loc[dfQ1['High Risk'] == \"No\"]\n",
    "temp4 = pd.DataFrame(dfQ1_nonhigh.groupby([\"CollectionDate\", \"TestResult\"]).count())\n",
    "temp4= temp4.rename(columns={\"ID\":\"Test Result Count\"})\n",
    "date_result_tbl4 = temp4[[\"Test Result Count\"]]\n",
    "date_result_tbl4=pd.DataFrame(date_result_tbl4)\n",
    "date_result_tbl4.reset_index(level=['CollectionDate', 'TestResult'])\n",
    "date_result_tbl4 = date_result_tbl4.reset_index(level=['CollectionDate', 'TestResult'])\n",
    "#split the collection date timestamp into an array of month, day, and year\n",
    "date_result_tbl4['CollectionDate'] = date_result_tbl4['CollectionDate'].apply(lambda x: x.split('/'))\n",
    "#extract the month and year only from the array\n",
    "date_result_tbl4['CollectionDate'] = date_result_tbl4['CollectionDate'].apply(lambda x: [x[0], x[2]])\n",
    "#select data where TestResult == \"Positive\" \n",
    "pos_tbl1 = date_result_tbl4.loc[date_result_tbl['TestResult'] == \"Positive\"]\n",
    "pos_tbl1 = pd.DataFrame(pos_tbl1)\n",
    "pos_tbl1 = pos_tbl1.rename(columns={\"Test Result Count\":\"Positive Test Result Count\"})\n",
    "pos_tbl1 = pos_tbl1[[\"CollectionDate\", \"Positive Test Result Count\"]]\n",
    "pos_tbl1['CollectionDate'] = pos_tbl1['CollectionDate'].apply(lambda x:str(x[0]) + \"/\" + str(x[1]))\n",
    "pos_tbl_avg_nonhigh = pos_tbl1.groupby(['CollectionDate']).mean()\n",
    "pos_tbl_avg_nonhigh  = pd.DataFrame(pos_tbl_avg_nonhigh )\n",
    "pos_tbl_avg_nonhigh  = pos_tbl_avg_nonhigh .rename(columns={\"Positive Test Result Count\":\"Positive Test Result Average Per Month\"})\n",
    "#pos_tbl_avg_nonhigh  = pos_tbl_avg_nonhigh .style.set_caption('Average Count of Positive Test Results By Collection Date Month Among UC Berkeley Graduates and Undergraduates **Only non-high risk groups')\n",
    "pos_tbl_avg_nonhigh "
   ]
  },
  {
   "cell_type": "code",
   "execution_count": null,
   "id": "002ad2b3",
   "metadata": {},
   "outputs": [],
   "source": [
    "#sort table\n",
    "pos_tbl_avg_nonhigh   = pd.DataFrame(pos_tbl_avg_nonhigh).reset_index(level=['CollectionDate'])\n",
    "pos_tbl_avg_nonhigh['month only'] = pos_tbl_avg_nonhigh['CollectionDate'].apply(lambda x: int(x.split('/')[0]))\n",
    "pos_tbl_avg_nonhigh['year only'] = pos_tbl_avg_nonhigh['CollectionDate'].apply(lambda x: int(x.split('/')[1]))\n",
    "pos_tbl_avg_nonhigh = pos_tbl_avg_nonhigh.sort_values(['year only', 'month only'],\n",
    "              ascending = [True, True])\n",
    "pos_tbl_avg_nonhigh = pd.DataFrame(pos_tbl_avg_nonhigh[[\"CollectionDate\", \"Positive Test Result Average Per Month\"]])\n",
    "pos_tbl_avg_nonhigh2 = pos_tbl_avg_nonhigh.style.set_caption('Average Count of Positive Test Results By Collection Date Month Among UC Berkeley Graduates and Undergraduates **Only non-high risk groups')"
   ]
  },
  {
   "cell_type": "markdown",
   "id": "2ad0c67d",
   "metadata": {},
   "source": [
    "#  <font color='purple'>Result:</font>"
   ]
  },
  {
   "cell_type": "code",
   "execution_count": null,
   "id": "f355103b",
   "metadata": {
    "scrolled": false
   },
   "outputs": [],
   "source": [
    "pos_tbl_avg_nonhigh2"
   ]
  },
  {
   "cell_type": "code",
   "execution_count": null,
   "id": "fe7dd3f9",
   "metadata": {
    "scrolled": true
   },
   "outputs": [],
   "source": [
    "import matplotlib.pyplot as plt\n",
    "date_arr = pos_tbl_avg_nonhigh[\"CollectionDate\"].to_numpy()\n",
    "pos_avg_arr = pos_tbl_avg_nonhigh[\"Positive Test Result Average Per Month\"].to_numpy() \n",
    "plt.plot(date_arr, pos_avg_arr)\n",
    "plt.rcParams[\"figure.figsize\"] = (15,15)\n",
    "plt.title('Average Count of Positive Test Results By Collection Date Month Among UC Berkeley Graduates and Undergraduates **Only non-high risk groups')\n",
    "plt.xlabel('Collection Date')\n",
    "plt.ylabel('Average Number of Positive Cases')\n",
    "plt.show()"
   ]
  },
  {
   "cell_type": "markdown",
   "id": "241c6656",
   "metadata": {},
   "source": [
    "### Other"
   ]
  },
  {
   "cell_type": "code",
   "execution_count": null,
   "id": "09726a73",
   "metadata": {},
   "outputs": [],
   "source": [
    "total_pop = dfQ1.shape[0]\n",
    "total_pop"
   ]
  },
  {
   "cell_type": "code",
   "execution_count": null,
   "id": "f8c55e13",
   "metadata": {},
   "outputs": [],
   "source": [
    "dfQ1_nonhigh_pop = dfQ1.loc[dfQ1['High Risk'] == \"No\"].shape[0]\n",
    "dfQ1_nonhigh_pop"
   ]
  },
  {
   "cell_type": "code",
   "execution_count": null,
   "id": "7518223e",
   "metadata": {},
   "outputs": [],
   "source": [
    "dfQ1_high_pop = dfQ1.loc[dfQ1['High Risk'] == \"Yes\"].shape[0]\n",
    "dfQ1_high_pop"
   ]
  },
  {
   "cell_type": "markdown",
   "id": "1c11c76c",
   "metadata": {},
   "source": [
    "# Q2 Dataset Analysis"
   ]
  },
  {
   "cell_type": "markdown",
   "id": "93d03b90",
   "metadata": {},
   "source": [
    "###### Contributor: Lisa Cheung"
   ]
  }
 ],
 "metadata": {
  "kernelspec": {
   "display_name": "Python 3 (ipykernel)",
   "language": "python",
   "name": "python3"
  },
  "language_info": {
   "codemirror_mode": {
    "name": "ipython",
    "version": 3
   },
   "file_extension": ".py",
   "mimetype": "text/x-python",
   "name": "python",
   "nbconvert_exporter": "python",
   "pygments_lexer": "ipython3",
   "version": "3.9.12"
  }
 },
 "nbformat": 4,
 "nbformat_minor": 5
}
